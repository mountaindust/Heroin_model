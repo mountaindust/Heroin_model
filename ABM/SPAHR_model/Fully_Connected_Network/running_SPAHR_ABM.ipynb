{
 "cells": [
  {
   "cell_type": "markdown",
   "metadata": {},
   "source": [
    "# SPAHR ABM\n",
    "This notebook shows how to run the SPAHR_ABM class and obtain your results in a csv or excel file."
   ]
  },
  {
   "cell_type": "code",
   "execution_count": 1,
   "metadata": {},
   "outputs": [],
   "source": [
    "import csv\n",
    "import numpy as np\n",
    "import pandas as pd\n",
    "from SPAHR_class import SPAHR_ABM"
   ]
  },
  {
   "cell_type": "markdown",
   "metadata": {},
   "source": [
    "## Loading parameters to the model\n",
    "\n",
    "The ABM for this model is represented as a class that is stored in the file SPAHR_class.py. The SPAHR_ABM class takes a Python dictionary as the inputs for generating the class. This allows you to specify your parameters on which the ABM will be ran. \n",
    "\n",
    "Below is an example of creating this dictionary of inputs. Inputs must have a key that directly corresponds to the naming shown. Keys other than what is shown will cause the class to generate an error. You can use the template below to input parameters to the dictionary."
   ]
  },
  {
   "cell_type": "code",
   "execution_count": 2,
   "metadata": {},
   "outputs": [],
   "source": [
    "# Loading parameters into model\n",
    "params = {}\n",
    "params['turtle-count']  = 750\n",
    "params['num-ticks']     = 1000\n",
    "params['delta_t']       = 0.01\n",
    "params['mu']            = 0.0071\n",
    "\n",
    "params['m_tilde']       = -0.0056\n",
    "params['b_tilde']       = 0.27 \n",
    "params['c_tilde']       = -0.027\n",
    "params['beta_A']        = 0.0878\n",
    "params['beta_P']        = 0.0654\n",
    "params['theta_1']       = 0.222\n",
    "\n",
    "params['gamma']         = 0.0705\n",
    "params['epsilon']       = 2.53\n",
    "params['theta_2']       = 0.236\n",
    "\n",
    "params['zeta']          = 0.198\n",
    "params['theta_3']       = 2\n",
    "params['d_tilde']       = 0.000977\n",
    "params['e_tilde']       = 0.00883\n",
    "\n",
    "params['nu']            = 0.000531\n",
    "params['mu_H']          = 0.0466\n",
    "\n",
    "params['sigma']         = 0.102\n",
    "\n",
    "params['P0']  = 0.15\n",
    "params['A0']  = 0.09\n",
    "params['H0']  = 0.03\n",
    "params['R0']  = 0.03\n",
    "params['S0']  = 1 - (params['P0'] + params['A0'] + params['H0'] + params['R0'])\n",
    "\n",
    "# These need only to be input if alpha and mu_a are constant in the model\n",
    "params['alpha'] = 0.27\n",
    "params['mu_a']  = 0.00883"
   ]
  },
  {
   "cell_type": "markdown",
   "metadata": {},
   "source": [
    "## Running the Model\n",
    "\n",
    "In the block of code below, we call the class constructor to initialize our model class with our specified parameters. The arguments to the constructor are as follows:\n",
    "\n",
    "1. parameters\n",
    "    - This is the dictionary of parameters with keys specified as in the above block of code\n",
    "2. constants\n",
    "    - **Default value** = [1, 1]\n",
    "    - This list of exactly two elements specifies whether alpha and mu_a are constant or not\n",
    "        - If alpha constant, *constants[0] = 1*\n",
    "        - If mu_a constant, *constants[1] = 1*\n",
    "    - On the contrary, for the time-dependent parameters:\n",
    "        - If alpha is piecewise linear, *constants[0] = 0*\n",
    "        - If mu_a is linear, *constants[1] = 0*\n",
    "    - These conditions must be set at this step in the model creation\n",
    "\n",
    "Running the SNPAHR model requires calling the *run_model* function, as is shown below after the class constructor is called. The arguments to this function are as follows:\n",
    "\n",
    "1. n_runs\n",
    "    - This value specifies how many runs you want to conduct for the ABM.\n",
    "    - i.e. this is the number of times that the model runs a full iteration from tick 0 to tick *n_ticks*. \n",
    "2. relapse_mem\n",
    "    - **Default value** = False\n",
    "    - This option allows you to run the model using a memory feature for each node that relapses in the network. \n",
    "    - The alternative to this relapse memory code is to have a proportional entry into A and H compartments when a node relapses. \n",
    "    - To activate relapse memory code, *relapse_mem = True*\n",
    "    - To use proportional relapse code, *relapse_mem = False*\n",
    "3. progress_bar    \n",
    "    - **Default value** = True\n",
    "    - This option allows you to print a progress bar to stdout as the model runs.\n",
    "    - To activate progress bar output, *progress_bar = True*\n",
    "    - To inactivate progress bar output, *progress_bar = False*"
   ]
  },
  {
   "cell_type": "code",
   "execution_count": 3,
   "metadata": {},
   "outputs": [
    {
     "name": "stdout",
     "output_type": "stream",
     "text": [
      "Running SPAHR ABM: 10 runs\n",
      "0.0% \n",
      "10.0% -\n",
      "20.0% --\n",
      "30.0% ---\n",
      "40.0% ----\n",
      "50.0% -----\n",
      "60.0% ------\n",
      "70.0% -------\n",
      "80.0% --------\n",
      "90.0% ---------\n",
      "100.0% ----------\n",
      "Finished\n"
     ]
    }
   ],
   "source": [
    "model = SPAHR_ABM(parameters = params, constants = [1, 1])\n",
    "# constants = [1,1] tells us that [alpha, mu_a] are constant\n",
    "\n",
    "model.run_model(n_runs = 10, relapse_mem = False, progress_bar = True)"
   ]
  },
  {
   "cell_type": "markdown",
   "metadata": {},
   "source": [
    "Output from this run_model function is stored in a Pandas DataFrame by the name of model_data. In the code below, you can see that we print this DataFrame to stdout."
   ]
  },
  {
   "cell_type": "code",
   "execution_count": 4,
   "metadata": {},
   "outputs": [
    {
     "name": "stdout",
     "output_type": "stream",
     "text": [
      "       [run number]  [step]  count turtles with [class = \"S\"] / turtle-count  \\\n",
      "0               0.0     0.0                                         0.700000   \n",
      "1               0.0     1.0                                         0.704000   \n",
      "2               0.0     2.0                                         0.702667   \n",
      "3               0.0     3.0                                         0.706667   \n",
      "4               0.0     4.0                                         0.705333   \n",
      "...             ...     ...                                              ...   \n",
      "11006          10.0   996.0                                         0.561333   \n",
      "11007          10.0   997.0                                         0.565333   \n",
      "11008          10.0   998.0                                         0.566667   \n",
      "11009          10.0   999.0                                         0.565333   \n",
      "11010          10.0  1000.0                                         0.564000   \n",
      "\n",
      "       count turtles with [class = \"P\"] / turtle-count  \\\n",
      "0                                             0.149333   \n",
      "1                                             0.145333   \n",
      "2                                             0.146667   \n",
      "3                                             0.142667   \n",
      "4                                             0.144000   \n",
      "...                                                ...   \n",
      "11006                                         0.070667   \n",
      "11007                                         0.066667   \n",
      "11008                                         0.065333   \n",
      "11009                                         0.065333   \n",
      "11010                                         0.066667   \n",
      "\n",
      "       count turtles with [class = \"A\"] / turtle-count  \\\n",
      "0                                             0.090667   \n",
      "1                                             0.090667   \n",
      "2                                             0.090667   \n",
      "3                                             0.089333   \n",
      "4                                             0.088000   \n",
      "...                                                ...   \n",
      "11006                                         0.012000   \n",
      "11007                                         0.012000   \n",
      "11008                                         0.012000   \n",
      "11009                                         0.012000   \n",
      "11010                                         0.012000   \n",
      "\n",
      "       count turtles with [class = \"H\"] / turtle-count  \\\n",
      "0                                             0.029333   \n",
      "1                                             0.029333   \n",
      "2                                             0.029333   \n",
      "3                                             0.029333   \n",
      "4                                             0.029333   \n",
      "...                                                ...   \n",
      "11006                                         0.302667   \n",
      "11007                                         0.304000   \n",
      "11008                                         0.304000   \n",
      "11009                                         0.305333   \n",
      "11010                                         0.305333   \n",
      "\n",
      "       count turtles with [class = \"R\"] / turtle-count  \n",
      "0                                             0.029333  \n",
      "1                                             0.029333  \n",
      "2                                             0.029333  \n",
      "3                                             0.030667  \n",
      "4                                             0.032000  \n",
      "...                                                ...  \n",
      "11006                                         0.052000  \n",
      "11007                                         0.050667  \n",
      "11008                                         0.050667  \n",
      "11009                                         0.050667  \n",
      "11010                                         0.050667  \n",
      "\n",
      "[11011 rows x 7 columns]\n"
     ]
    }
   ],
   "source": [
    "print(model.model_data)"
   ]
  },
  {
   "cell_type": "markdown",
   "metadata": {},
   "source": [
    "## Writing the model_data to CSV or excel\n",
    "After obtaining model_data from running the ABM, you have the option to output this data to either a .csv or .xlxs file. Two functions are provided for these respective operations.\n",
    "\n",
    "*data_to_csv(file_name = \"NONE\", robust = True)*\n",
    "- This function allows you to output model_data to a .csv file \n",
    "\n",
    "Arguments:\n",
    "1. file_name\n",
    "    - This allows you to specify the name of your output csv file.\n",
    "    - If file_name not specified, function uses name customized from your input parameters. The format is as shown below:\n",
    "    \"<n_turtles>_turtles_ABM.csv\"\n",
    "2. robust\n",
    "    - **Default value** = True\n",
    "    - This option states whether you want initial conditions to be applied to your output file.\n",
    "    - All initial conditions/parameters are stored in the CSV file so that it can be analyzed by the SNPAHR_dashboard.Rmd file included in the repository.\n",
    "    - To omit initial parameters in csv file: robust = False\n",
    "    - To include initial parameters in csv file: robust = True\n",
    "    \n",
    "*data_to_excel(file_name = \"NONE\", robust = True)*\n",
    "- This function operates identically to *data_to_csv*, but the output of this function is an .xlxs document rather than a .csv file"
   ]
  },
  {
   "cell_type": "code",
   "execution_count": 5,
   "metadata": {},
   "outputs": [
    {
     "name": "stdout",
     "output_type": "stream",
     "text": [
      "Writing to my_SPAHR_ABM_data.csv\n"
     ]
    }
   ],
   "source": [
    "model.data_to_csv(file_name = \"my_SPAHR_ABM_data.csv\")"
   ]
  }
 ],
 "metadata": {
  "kernelspec": {
   "display_name": "Python 3",
   "language": "python",
   "name": "python3"
  },
  "language_info": {
   "codemirror_mode": {
    "name": "ipython",
    "version": 3
   },
   "file_extension": ".py",
   "mimetype": "text/x-python",
   "name": "python",
   "nbconvert_exporter": "python",
   "pygments_lexer": "ipython3",
   "version": "3.8.2"
  }
 },
 "nbformat": 4,
 "nbformat_minor": 4
}
